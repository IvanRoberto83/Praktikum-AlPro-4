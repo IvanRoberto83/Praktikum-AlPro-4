{
  "nbformat": 4,
  "nbformat_minor": 0,
  "metadata": {
    "colab": {
      "provenance": []
    },
    "kernelspec": {
      "name": "python3",
      "display_name": "Python 3"
    },
    "language_info": {
      "name": "python"
    }
  },
  "cells": [
    {
      "cell_type": "code",
      "execution_count": 1,
      "metadata": {
        "colab": {
          "base_uri": "https://localhost:8080/"
        },
        "id": "26v7bvGC7WPT",
        "outputId": "daddf4b0-2a03-467a-da33-171f21547e63"
      },
      "outputs": [
        {
          "output_type": "stream",
          "name": "stdout",
          "text": [
            "Masukkan angka pertama : 1\n",
            "Masukkan angka kedua   : 2\n",
            "Masukkan angka ketiga  : 3\n",
            "True\n"
          ]
        }
      ],
      "source": [
        "#Soal 1\n",
        "\n",
        "def cek_angka():\n",
        "    a = int(input(\"Masukkan angka pertama : \"))\n",
        "    b = int(input(\"Masukkan angka kedua   : \"))\n",
        "    c = int(input(\"Masukkan angka ketiga  : \"))\n",
        "\n",
        "    if a != b and a!= c and b != c:\n",
        "        if a+b == c or a+c == b or b+c == a:\n",
        "            return True\n",
        "        else:\n",
        "            return False\n",
        "    else:\n",
        "        return False\n",
        "\n",
        "print(cek_angka())"
      ]
    },
    {
      "cell_type": "code",
      "source": [
        "#Soal 2\n",
        "\n",
        "def cek_digit_belakang():\n",
        "    a = int(input(\"Masukkan angka pertama : \"))\n",
        "    b = int(input(\"Masukkan angka kedua   : \"))\n",
        "    c = int(input(\"Masukkan angka ketiga  : \"))\n",
        "\n",
        "    digitKanan_a = a%10\n",
        "    digitKanan_b = b%10\n",
        "    digitKanan_c = c%10\n",
        "\n",
        "    if digitKanan_a == digitKanan_b or digitKanan_a == digitKanan_c or digitKanan_b == digitKanan_c:\n",
        "        return True\n",
        "    elif digitKanan_a == digitKanan_b and digitKanan_b == digitKanan_c:\n",
        "        return True\n",
        "    else:\n",
        "        return False\n",
        "\n",
        "print(cek_digit_belakang())"
      ],
      "metadata": {
        "colab": {
          "base_uri": "https://localhost:8080/"
        },
        "id": "zEsGDzC-7dh8",
        "outputId": "4229bfe5-4971-4c5c-af5a-ad68e92a072c"
      },
      "execution_count": 2,
      "outputs": [
        {
          "output_type": "stream",
          "name": "stdout",
          "text": [
            "Masukkan angka pertama : 30\n",
            "Masukkan angka kedua   : 20\n",
            "Masukkan angka ketiga  : 18\n",
            "True\n"
          ]
        }
      ]
    },
    {
      "cell_type": "code",
      "source": [
        "#Soal 3\n",
        "\n",
        "fahrenheit = lambda celcius : round((9/5) * celcius + 32)\n",
        "print(fahrenheit(int(input(\"Masukkan Celcius : \"))))\n",
        "\n",
        "reamur = lambda celcius : round(0.8 * celcius)\n",
        "print(reamur(int(input(\"Masukkan Celcius : \"))))"
      ],
      "metadata": {
        "colab": {
          "base_uri": "https://localhost:8080/"
        },
        "id": "hwMYCfqs7iVc",
        "outputId": "a4405967-51e1-4978-be04-d269e1b1f321"
      },
      "execution_count": 3,
      "outputs": [
        {
          "output_type": "stream",
          "name": "stdout",
          "text": [
            "Masukkan Celcius : 100\n",
            "212\n",
            "Masukkan Celcius : 80\n",
            "64\n"
          ]
        }
      ]
    }
  ]
}